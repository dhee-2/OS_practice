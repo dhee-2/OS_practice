{
 "cells": [
  {
   "cell_type": "code",
   "execution_count": 68,
   "id": "6467bf15",
   "metadata": {},
   "outputs": [],
   "source": [
    "file_path = \"./code1.bl\"\n",
    "labels = open(file_path).read().splitlines()\n"
   ]
  },
  {
   "cell_type": "code",
   "execution_count": 69,
   "id": "4fce4527",
   "metadata": {},
   "outputs": [],
   "source": [
    "import nltk\n",
    "from nltk.tokenize import TreebankWordTokenizer"
   ]
  },
  {
   "cell_type": "code",
   "execution_count": 70,
   "id": "455f9183",
   "metadata": {},
   "outputs": [
    {
     "data": {
      "text/plain": [
       "['0011 1100',\n",
       " '1000 0111',\n",
       " '0101 ',\n",
       " '0011 0011',\n",
       " '1000 1101',\n",
       " '0101 ',\n",
       " '0011 0000',\n",
       " '1000 1001',\n",
       " '0101 ',\n",
       " '0011 0110',\n",
       " '1000 0001',\n",
       " '0101 ',\n",
       " '0001 0111',\n",
       " '0100',\n",
       " '0011 0001',\n",
       " '0101',\n",
       " '0111 ',\n",
       " '0101 ',\n",
       " '0010 0111',\n",
       " '0001 0111',\n",
       " '0100',\n",
       " '0001 1001',\n",
       " '0110 ',\n",
       " '0101 ',\n",
       " '0010 0111',\n",
       " '0001 0111',\n",
       " '0100',\n",
       " '0011 0011',\n",
       " '0101',\n",
       " '0111 ',\n",
       " '0101 ',\n",
       " '0010 0111',\n",
       " '0001 0111',\n",
       " '0100',\n",
       " '0001 1101',\n",
       " '0110 ',\n",
       " '0101 ',\n",
       " '0010 0001',\n",
       " '1001 0001']"
      ]
     },
     "execution_count": 70,
     "metadata": {},
     "output_type": "execute_result"
    }
   ],
   "source": [
    "tk = TreebankWordTokenizer()\n",
    "tokens = []\n",
    "for doc in labels:\n",
    "    token = tk.tokenize(doc)\n",
    "    tokens.append(token)\n",
    "labels\n"
   ]
  },
  {
   "cell_type": "code",
   "execution_count": 71,
   "id": "08f66c5a",
   "metadata": {},
   "outputs": [],
   "source": [
    "## 전역변수 \n",
    "global DR\n",
    "DR=\"\"\n",
    "global memory\n",
    "memory= {\"0000\":\"0\",\"0001\":\"0\",\"0010\":\"0\",\"0011\":\"0\",\"0100\":\"0\",\"0101\":\"0\",\"0110\":\"0\",\"0111\":\"0\",\"1000\":\"0\"\n",
    ",\"1001\":\"0\",\"1010\":\"0\",\"1011\":\"0\",\"1100\":\"0\",\"1101\":\"0\",\"1110\":\"0\",\"1111\":\"0\"} \n",
    "global stack \n",
    "stack=[]\n",
    "#########\n",
    "################# 문자열을 int형태로 변환해 연산을 한 후 2진수 형태로 바꾸고 형태 일정하게 정해주는 함수들들\n",
    "def binary_1(x): \n",
    "    b=1 \n",
    "    int_result=0 \n",
    "    for i in range(len(x)): \n",
    "        if x[i]==\"1\": \n",
    "            int_result=int_result+b\n",
    "        b=b*2\n",
    "    return int_result\n",
    "def reverse(x):\n",
    "    x=list(x)\n",
    "    x.reverse()\n",
    "    x=\"\".join(x)\n",
    "    return x\n",
    "\n",
    "def transfer(x):\n",
    "    x=x[2:]\n",
    "    if(len(x)!=4):\n",
    "        while(len(x)!=4):\n",
    "            x=\"0\"+x\n",
    "    return x\n",
    "\n"
   ]
  },
  {
   "cell_type": "code",
   "execution_count": 72,
   "id": "5e860702",
   "metadata": {},
   "outputs": [],
   "source": [
    "##################### 명령어 함수들\n",
    "def LOAD(num):\n",
    "    global DR\n",
    "    DR=num\n",
    "def LOAD_2(m_address):\n",
    "    global DR\n",
    "    global memory\n",
    "    DR = memory[m_address]\n",
    "def STORE(m_address):\n",
    "    global DR\n",
    "    global memory\n",
    "    memory[m_address] = DR\n",
    "def PUSH(num):\n",
    "    global stack\n",
    "    stack.append(num)\n",
    "def PUSH_1():\n",
    "    global stack\n",
    "    stack.append(DR)\n",
    "def POP():\n",
    "    global stack\n",
    "    global DR\n",
    "    if len(stack)!=0:\n",
    "        DR = stack.pop()\n",
    "    \n",
    "def ADD():\n",
    "    global stack\n",
    "    global DR\n",
    "    result=0\n",
    "    s= stack.pop()\n",
    "    s=reverse(s)\n",
    "    DR1=reverse(DR)\n",
    "    s=binary_1(s)\n",
    "    DR1=binary_1(DR1)\n",
    "    result=s+DR1\n",
    "    result=bin(result)\n",
    "    result=transfer(result)\n",
    "    stack.append(result)\n",
    "def SUB():\n",
    "    global stack\n",
    "    global DR\n",
    "    result=0\n",
    "    s= stack.pop()\n",
    "    s=reverse(s)\n",
    "    DR1=reverse(DR)\n",
    "    s=binary_1(s)\n",
    "    DR1=binary_1(DR1)\n",
    "    result=s-DR1\n",
    "    result=bin(result)\n",
    "    result=transfer(result)\n",
    "    stack.append(result)\n",
    "def WRITE(m_address):\n",
    "    global stack\n",
    "    global memory\n",
    "    memory[m_address] = stack.pop()\n",
    "def PRINT(m_address):\n",
    "    global stack\n",
    "    global memory\n",
    "    f = open(\"./result.txt\",\"w\")\n",
    "    f.write(memory[m_address])\n",
    "    print(memory[m_address])\n",
    "    "
   ]
  },
  {
   "cell_type": "code",
   "execution_count": 73,
   "id": "3420267a",
   "metadata": {},
   "outputs": [
    {
     "name": "stdout",
     "output_type": "stream",
     "text": [
      "1011\n"
     ]
    }
   ],
   "source": [
    "for i in tokens:\n",
    "    if len(i) ==2 :\n",
    "        op1 = i[0]\n",
    "        op2 = i[1]\n",
    "        if op1 ==\"0000\":\n",
    "            LOAD(po2)\n",
    "        elif op1 == \"0001\":\n",
    "            LOAD_2(op2) \n",
    "        elif op1 == \"0010\" :\n",
    "            STORE(op2) \n",
    "        elif op1 == \"0011\":\n",
    "            PUSH(op2)\n",
    "        elif op1 == \"1000\":\n",
    "            WRITE(op2)\n",
    "        elif op1 == \"1001\":\n",
    "            PRINT(op2)\n",
    "    else: \n",
    "        op1 = i[0]\n",
    "        if op1 == \"0100\":\n",
    "            PUSH_1()\n",
    "        elif op1 ==\"0101\":\n",
    "            POP()\n",
    "        elif op1 == \"0110\":\n",
    "            ADD()\n",
    "        elif op1 == \"0111\":\n",
    "            SUB()\n",
    "      "
   ]
  },
  {
   "cell_type": "code",
   "execution_count": null,
   "id": "40f4f375",
   "metadata": {},
   "outputs": [],
   "source": []
  },
  {
   "cell_type": "code",
   "execution_count": null,
   "id": "7a8021ed",
   "metadata": {},
   "outputs": [],
   "source": []
  }
 ],
 "metadata": {
  "kernelspec": {
   "display_name": "Python 3 (ipykernel)",
   "language": "python",
   "name": "python3"
  },
  "language_info": {
   "codemirror_mode": {
    "name": "ipython",
    "version": 3
   },
   "file_extension": ".py",
   "mimetype": "text/x-python",
   "name": "python",
   "nbconvert_exporter": "python",
   "pygments_lexer": "ipython3",
   "version": "3.9.13"
  },
  "vscode": {
   "interpreter": {
    "hash": "b1ec0fd9967de7aec37bfd037e2367082336c6053461170f1dbea8565504e200"
   }
  }
 },
 "nbformat": 4,
 "nbformat_minor": 5
}
