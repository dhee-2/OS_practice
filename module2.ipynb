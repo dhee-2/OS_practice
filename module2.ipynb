{
 "cells": [
  {
   "cell_type": "code",
   "execution_count": 242,
   "id": "6467bf15",
   "metadata": {},
   "outputs": [],
   "source": [
    "file_path = \"./code1.pl\"\n",
    "labels = open(file_path).read().splitlines()\n",
    "f = open(\"./code1.bl\",\"w\")"
   ]
  },
  {
   "cell_type": "code",
   "execution_count": 243,
   "id": "4fce4527",
   "metadata": {},
   "outputs": [],
   "source": [
    "import nltk\n",
    "from nltk.tokenize import TreebankWordTokenizer"
   ]
  },
  {
   "cell_type": "code",
   "execution_count": 244,
   "id": "455f9183",
   "metadata": {},
   "outputs": [
    {
     "data": {
      "text/plain": [
       "['WRITE A 1100 1010  ',\n",
       " 'WRITE B 0111 0001  ',\n",
       " 'WRITE C 1111 0001',\n",
       " 'WRITE D 0001 0110',\n",
       " 'SUB A 0001',\n",
       " 'STORE A',\n",
       " 'SUB A C',\n",
       " 'STORE A',\n",
       " 'SUB A 0011',\n",
       " 'STORE A',\n",
       " 'ADD A B',\n",
       " 'STORE D',\n",
       " 'PRINT D']"
      ]
     },
     "execution_count": 244,
     "metadata": {},
     "output_type": "execute_result"
    }
   ],
   "source": [
    "tk = TreebankWordTokenizer()\n",
    "tokens = []\n",
    "for doc in labels:\n",
    "    token = tk.tokenize(doc)\n",
    "    tokens.append(token)\n",
    "labels"
   ]
  },
  {
   "cell_type": "code",
   "execution_count": 245,
   "id": "08f66c5a",
   "metadata": {},
   "outputs": [],
   "source": [
    "# 전역변수 \n",
    "global address_key\n",
    "address_key = {}"
   ]
  },
  {
   "cell_type": "code",
   "execution_count": 246,
   "id": "91dfd143",
   "metadata": {},
   "outputs": [],
   "source": [
    "# 명령어 함수\n",
    "def WRITE(param1,param2,param3):\n",
    "    f.write(\"0011 \"+param3+'\\n')\n",
    "    f.write(\"1000 \"+param2+'\\n')    \n",
    "    f.write(\"0101 \\n\")\n",
    "    address_key[param1]= param2\n",
    "\n",
    "def ADD(param1,param2):\n",
    "    p1=\"\"\n",
    "    p2=\"\"\n",
    "    p1 = address_key[param1]\n",
    "    if len(param2)==4:\n",
    "        p2=param2\n",
    "        f.write(\"0001 \"+p1+'\\n')\n",
    "        f.write(\"0100\"+'\\n')    \n",
    "        f.write(\"0011 \"+p2+'\\n')\n",
    "        f.write(\"0101\\n\")\n",
    "        f.write(\"0110 \\n\")\n",
    "        f.write(\"0101 \\n\")            \n",
    "    else :\n",
    "        p2=address_key[param2]\n",
    "        f.write(\"0001 \"+p1+'\\n')\n",
    "        f.write(\"0100\"+'\\n')    \n",
    "        f.write(\"0001 \"+p2+'\\n')\n",
    "        f.write(\"0110 \\n\")\n",
    "        f.write(\"0101 \\n\")\n",
    "\n",
    "def SUB(param1,param2):\n",
    "    p1=\"\"\n",
    "    p2=\"\"\n",
    "    p1 = address_key[param1]\n",
    "    if len(param2)==4:\n",
    "        p2=param2\n",
    "        f.write(\"0001 \"+p1+'\\n')\n",
    "        f.write(\"0100\"+'\\n')    \n",
    "        f.write(\"0011 \"+p2+'\\n')\n",
    "        f.write(\"0101\\n\")\n",
    "        f.write(\"0111 \\n\")\n",
    "        f.write(\"0101 \\n\")            \n",
    "    else :\n",
    "        p2=address_key[param2]\n",
    "        f.write(\"0001 \"+p1+'\\n')\n",
    "        f.write(\"0100\"+'\\n')    \n",
    "        f.write(\"0001 \"+p2+'\\n')\n",
    "        f.write(\"0111 \\n\")\n",
    "        f.write(\"0101 \\n\")\n",
    "    \n",
    "def STORE(param1):\n",
    "    f.write(\"0010 \"+address_key[param1]+\"\\n\")\n",
    "    \n",
    "def PRINT(param1):\n",
    "    f.write(\"1001 \"+address_key[param1]+'\\n')"
   ]
  },
  {
   "cell_type": "code",
   "execution_count": 247,
   "id": "5e860702",
   "metadata": {},
   "outputs": [],
   "source": [
    "for i in tokens:\n",
    "    if(len(i)==4):\n",
    "        opcode = i[0]\n",
    "        param1 = i[1]\n",
    "        param2 = i[2]\n",
    "        param3 = i[3]\n",
    "    elif len(i)==3:\n",
    "        opcode = i[0]\n",
    "        param1 = i[1]\n",
    "        param2 = i[2]\n",
    "    elif len(i)==2:\n",
    "        opcode = i[0]\n",
    "        param1 = i[1] \n",
    "    else :\n",
    "        opcode = i[0]\n",
    "    if opcode == \"WRITE\":\n",
    "        WRITE(param1,param2,param3)\n",
    "    if opcode == \"ADD\":\n",
    "        ADD(param1,param2)\n",
    "    if opcode == \"SUB\":\n",
    "        SUB(param1,param2)\n",
    "    if opcode == \"STORE\":\n",
    "        STORE(param1)\n",
    "    if opcode == \"PRINT\":\n",
    "        PRINT(param1)"
   ]
  },
  {
   "cell_type": "code",
   "execution_count": 248,
   "id": "3420267a",
   "metadata": {},
   "outputs": [],
   "source": [
    "f.close()"
   ]
  },
  {
   "cell_type": "code",
   "execution_count": null,
   "id": "44a294d8",
   "metadata": {},
   "outputs": [],
   "source": []
  },
  {
   "cell_type": "code",
   "execution_count": null,
   "id": "0484b84b",
   "metadata": {},
   "outputs": [],
   "source": []
  },
  {
   "cell_type": "code",
   "execution_count": null,
   "id": "f0c99732",
   "metadata": {},
   "outputs": [],
   "source": []
  },
  {
   "cell_type": "code",
   "execution_count": null,
   "id": "499e7030",
   "metadata": {},
   "outputs": [],
   "source": []
  }
 ],
 "metadata": {
  "kernelspec": {
   "display_name": "Python 3 (ipykernel)",
   "language": "python",
   "name": "python3"
  },
  "language_info": {
   "codemirror_mode": {
    "name": "ipython",
    "version": 3
   },
   "file_extension": ".py",
   "mimetype": "text/x-python",
   "name": "python",
   "nbconvert_exporter": "python",
   "pygments_lexer": "ipython3",
   "version": "3.9.7"
  }
 },
 "nbformat": 4,
 "nbformat_minor": 5
}
